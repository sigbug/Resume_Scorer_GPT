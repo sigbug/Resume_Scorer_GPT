{
  "cells": [
    {
      "cell_type": "code",
      "execution_count": null,
      "metadata": {
        "colab": {
          "base_uri": "https://localhost:8080/"
        },
        "id": "2CS8yvt_Ki4_",
        "outputId": "c460f3a2-a1be-4ee9-e865-546804f0f2d6"
      },
      "outputs": [
        {
          "name": "stdout",
          "output_type": "stream",
          "text": [
            "Collecting openai\n",
            "  Downloading openai-0.27.8-py3-none-any.whl (73 kB)\n",
            "\u001b[2K     \u001b[90m━━━━━━━━━━━━━━━━━━━━━━━━━━━━━━━━━━━━━━━━\u001b[0m \u001b[32m73.6/73.6 kB\u001b[0m \u001b[31m1.5 MB/s\u001b[0m eta \u001b[36m0:00:00\u001b[0m\n",
            "\u001b[?25hRequirement already satisfied: requests>=2.20 in /usr/local/lib/python3.10/dist-packages (from openai) (2.31.0)\n",
            "Requirement already satisfied: tqdm in /usr/local/lib/python3.10/dist-packages (from openai) (4.66.0)\n",
            "Requirement already satisfied: aiohttp in /usr/local/lib/python3.10/dist-packages (from openai) (3.8.5)\n",
            "Requirement already satisfied: charset-normalizer<4,>=2 in /usr/local/lib/python3.10/dist-packages (from requests>=2.20->openai) (3.2.0)\n",
            "Requirement already satisfied: idna<4,>=2.5 in /usr/local/lib/python3.10/dist-packages (from requests>=2.20->openai) (3.4)\n",
            "Requirement already satisfied: urllib3<3,>=1.21.1 in /usr/local/lib/python3.10/dist-packages (from requests>=2.20->openai) (2.0.4)\n",
            "Requirement already satisfied: certifi>=2017.4.17 in /usr/local/lib/python3.10/dist-packages (from requests>=2.20->openai) (2023.7.22)\n",
            "Requirement already satisfied: attrs>=17.3.0 in /usr/local/lib/python3.10/dist-packages (from aiohttp->openai) (23.1.0)\n",
            "Requirement already satisfied: multidict<7.0,>=4.5 in /usr/local/lib/python3.10/dist-packages (from aiohttp->openai) (6.0.4)\n",
            "Requirement already satisfied: async-timeout<5.0,>=4.0.0a3 in /usr/local/lib/python3.10/dist-packages (from aiohttp->openai) (4.0.2)\n",
            "Requirement already satisfied: yarl<2.0,>=1.0 in /usr/local/lib/python3.10/dist-packages (from aiohttp->openai) (1.9.2)\n",
            "Requirement already satisfied: frozenlist>=1.1.1 in /usr/local/lib/python3.10/dist-packages (from aiohttp->openai) (1.4.0)\n",
            "Requirement already satisfied: aiosignal>=1.1.2 in /usr/local/lib/python3.10/dist-packages (from aiohttp->openai) (1.3.1)\n",
            "Installing collected packages: openai\n",
            "Successfully installed openai-0.27.8\n",
            "Collecting PyPDF2\n",
            "  Downloading pypdf2-3.0.1-py3-none-any.whl (232 kB)\n",
            "\u001b[2K     \u001b[90m━━━━━━━━━━━━━━━━━━━━━━━━━━━━━━━━━━━━━━━\u001b[0m \u001b[32m232.6/232.6 kB\u001b[0m \u001b[31m4.6 MB/s\u001b[0m eta \u001b[36m0:00:00\u001b[0m\n",
            "\u001b[?25hInstalling collected packages: PyPDF2\n",
            "Successfully installed PyPDF2-3.0.1\n",
            "Collecting python-docx\n",
            "  Downloading python-docx-0.8.11.tar.gz (5.6 MB)\n",
            "\u001b[2K     \u001b[90m━━━━━━━━━━━━━━━━━━━━━━━━━━━━━━━━━━━━━━━━\u001b[0m \u001b[32m5.6/5.6 MB\u001b[0m \u001b[31m14.1 MB/s\u001b[0m eta \u001b[36m0:00:00\u001b[0m\n",
            "\u001b[?25h  Preparing metadata (setup.py) ... \u001b[?25l\u001b[?25hdone\n",
            "Requirement already satisfied: lxml>=2.3.2 in /usr/local/lib/python3.10/dist-packages (from python-docx) (4.9.3)\n",
            "Building wheels for collected packages: python-docx\n",
            "  Building wheel for python-docx (setup.py) ... \u001b[?25l\u001b[?25hdone\n",
            "  Created wheel for python-docx: filename=python_docx-0.8.11-py3-none-any.whl size=184487 sha256=e5db3d8e8dad88dadbcb8c8b371a9e326d1b95d7479829cd27c1db535ea81603\n",
            "  Stored in directory: /root/.cache/pip/wheels/80/27/06/837436d4c3bd989b957a91679966f207bfd71d358d63a8194d\n",
            "Successfully built python-docx\n",
            "Installing collected packages: python-docx\n",
            "Successfully installed python-docx-0.8.11\n",
            "Collecting pdfminer.six\n",
            "  Downloading pdfminer.six-20221105-py3-none-any.whl (5.6 MB)\n",
            "\u001b[2K     \u001b[90m━━━━━━━━━━━━━━━━━━━━━━━━━━━━━━━━━━━━━━━━\u001b[0m \u001b[32m5.6/5.6 MB\u001b[0m \u001b[31m22.5 MB/s\u001b[0m eta \u001b[36m0:00:00\u001b[0m\n",
            "\u001b[?25hRequirement already satisfied: charset-normalizer>=2.0.0 in /usr/local/lib/python3.10/dist-packages (from pdfminer.six) (3.2.0)\n",
            "Requirement already satisfied: cryptography>=36.0.0 in /usr/local/lib/python3.10/dist-packages (from pdfminer.six) (41.0.3)\n",
            "Requirement already satisfied: cffi>=1.12 in /usr/local/lib/python3.10/dist-packages (from cryptography>=36.0.0->pdfminer.six) (1.15.1)\n",
            "Requirement already satisfied: pycparser in /usr/local/lib/python3.10/dist-packages (from cffi>=1.12->cryptography>=36.0.0->pdfminer.six) (2.21)\n",
            "Installing collected packages: pdfminer.six\n",
            "Successfully installed pdfminer.six-20221105\n"
          ]
        }
      ],
      "source": [
        "!pip install openai\n",
        "!pip install PyPDF2\n",
        "!pip install python-docx\n",
        "!pip install pdfminer.six"
      ]
    },
    {
      "cell_type": "code",
      "execution_count": null,
      "metadata": {
        "id": "HHreiBidKjc7"
      },
      "outputs": [],
      "source": [
        "import openai\n",
        "import PyPDF2\n",
        "import docx\n",
        "import os\n",
        "import re\n",
        "import pandas as pd\n",
        "from pdfminer.high_level import extract_text"
      ]
    },
    {
      "cell_type": "code",
      "execution_count": null,
      "metadata": {
        "id": "uop9bugMKkxK"
      },
      "outputs": [],
      "source": [
        "def get_all_resumes(folder_path):\n",
        "    resumes = []\n",
        "    for filename in os.listdir(folder_path):\n",
        "        file_path = os.path.join(folder_path, filename)\n",
        "        if os.path.isfile(file_path):\n",
        "            text = convert_files_to_text(file_path)\n",
        "            resumes.append(text)\n",
        "    return resumes\n",
        "\n",
        "def convert_files_to_text(file_path):\n",
        "    if file_path.endswith('.pdf'):\n",
        "        text = convert_pdf_to_text2(file_path)\n",
        "    elif file_path.endswith('.docx'):\n",
        "        text = convert_docx_to_text(file_path)\n",
        "    else:\n",
        "        return \"\"\n",
        "    return text\n",
        "\n",
        "def convert_pdf_to_text2(file_path):\n",
        "    text = extract_text(file_path)\n",
        "    return text\n",
        "\n",
        "def convert_pdf_to_text(file_path):\n",
        "    with open(file_path, 'rb') as file:\n",
        "        reader = PyPDF2.PdfReader(file)\n",
        "        text = ''\n",
        "        for page in reader.pages:\n",
        "            text += page.extract_text()\n",
        "    return text\n",
        "\n",
        "def convert_docx_to_text(file_path):\n",
        "    doc = docx.Document(file_path)\n",
        "    text = ''\n",
        "    for paragraph in doc.paragraphs:\n",
        "        text += paragraph.text + '\\n'\n",
        "    return text\n",
        "\n",
        "def get_choice_text_from_prompt(messages):\n",
        "    try:\n",
        "        response = openai.ChatCompletion.create(\n",
        "            model=\"gpt-3.5-turbo\",\n",
        "            messages=messages,\n",
        "            temperature=0,\n",
        "            max_tokens=1000\n",
        "        )\n",
        "        choice_text = response.choices[0][\"message\"][\"content\"]\n",
        "        return choice_text\n",
        "    except Exception as e:\n",
        "        print(\"Error in get_choice_text_from_prompt:\", str(e))\n",
        "        return \"\"\n",
        "\n",
        "def analyze_resume(resumetext,job_description,skills):\n",
        "    system_message = \"\"\"\n",
        "    You are an excellent talent recuiter and your task is to score resumes of candidates between 0-100 against a job description and skills required.\n",
        "    You will be provided with candidate resume, job description and skills required for the job.\n",
        "\n",
        "    The system instruction is:\n",
        "    Step-1: First check whether the candidate's resume is an actual resume or not.\n",
        "    Step-2: If the candidate's resume is not an actual resume then score=0, else further\n",
        "    analyse the candidate's resume against the job description and skills required by looking for these following qualities:\n",
        "      1. Relevant Experience: Relevant work experience in the field or industry related to the job role\n",
        "      2. Duration of experiences\n",
        "      3. Previous job titles\n",
        "      4. Specific responsibilities and their impact\n",
        "      5. Achievements in previous experiences\n",
        "      6. Education - The candidate's educational background\n",
        "      7. Educational quality\n",
        "      8. Certifications: specialized training, especially if they align with the job requirements.\n",
        "    Step-3:\n",
        "    Score the overall quality of resume against the job description and skills required between 0-100.\n",
        "    Score should be such that it can be compared against different candidate's resumes for shortlisting purpose.\n",
        "    Score should be a floating point number with upto 2 decimal point accuracy.\n",
        "    Step-4:\n",
        "    Return  the final score of resume, answer should be in json format with keys as - score and detailed explanation of the scoring procedure.\n",
        "    \"\"\"\n",
        "    user_message = f\"\"\"\n",
        "    Score the resume of candidate out of 100 against the given job description and skill requirements.\n",
        "    Information about the candidate's resume, skills/requirements and job description are given inside text delimited by triple backticks.\n",
        "\n",
        "    Candidate's Resume :```{resumetext}```\n",
        "    The skills/requirements expected from the candidates: ```{skills}```\n",
        "    Job Description for the Target Role: ```{job_description}```\n",
        "    \"\"\"\n",
        "    messages =  [\n",
        "                {'role':'system',\n",
        "                'content': system_message},\n",
        "                {'role':'user',\n",
        "                'content': user_message},\n",
        "                ]\n",
        "\n",
        "    resume_score = get_choice_text_from_prompt(messages)\n",
        "    return resume_score\n",
        "\n",
        "def analyze_all_resumes(folder_path, job_description, skills):\n",
        "  resumes = get_all_resumes(folder_path)\n",
        "  scores = []\n",
        "  for filename, resume_text in zip(os.listdir(folder_path), resumes):\n",
        "      resume_score = analyze_resume(resume_text, job_description, skills)\n",
        "      scores.append((filename, resume_score))\n",
        "\n",
        "  df = pd.DataFrame(scores, columns=[\"File_Name\", \"Score\"])\n",
        "\n",
        "  return df"
      ]
    },
    {
      "cell_type": "code",
      "execution_count": null,
      "metadata": {
        "id": "j6bwrQPxK5fs"
      },
      "outputs": [],
      "source": [
        "api_key = ''\n",
        "openai.api_key = api_key"
      ]
    },
    {
      "cell_type": "code",
      "execution_count": null,
      "metadata": {
        "colab": {
          "base_uri": "https://localhost:8080/"
        },
        "id": "_3nANue9K6cU",
        "outputId": "d7e925f6-1aa1-454d-c39b-58445e5ebb73"
      },
      "outputs": [
        {
          "name": "stdout",
          "output_type": "stream",
          "text": [
            "Enter the job description:\n",
            "General Responsibilities :    Data Collection and Validation: Collaborate with stakeholders to understand their data requirements and gather relevant information from various sources. Validate the accuracy and completeness of the data collected Report Generation: Develop and maintain standardized and ad-hoc reports to assist stakeholders in understanding key findings, risks, and opportunities Data Analysis: Utilize data analysis techniques to uncover insights, identify anomalies, and recognize patterns within the data to identify fraud Process Improvement: Continuously identify opportunities to streamline data gathering processes and improve efficiency Cross-functional Collaboration: Work closely with teams, such as finance, compliance, and engineering, to access relevant data availability and ensure consistency in reporting Compliance and Governance: Ensure adherence to data privacy regulations and internal data governance policies when handling sensitive information and generating regular reports Training and Support: Provide training and support to non-technical stakeholders on data gathering techniques and data analysis tools(Tableau,Metabase etc.)   Specific Responsibilities :    Analytical skills are required to provide accurate and actionable data regarding supply, demand, growth, alternatives, and recommended strategies for office space usage. Experience in setting up corporate offices, satellite offices, branches, and warehouses. Employee productivity and workplace readiness: Responsible for maintaining a high standard of facility factors that directly impact employee productivity. Create a time-to-time strategy to introduce the productivity enhancement tools in the facility. Budgeting and Frugality: Prepare a realistic annual budget to handle the OPEX and CAPEX requirements. Formulates and develops all strategies that are achievable, cost-effective, and address organizational goals. Develops procedures that are cost-effective and does long-term planning for cost consciousness. Compliance to Policies and Procedures: Ensure the operational effectiveness of regulatory policies. Design SOPs and apply good judgment to high-risk situations. Challenges practices for improvements whenever required. Responsible for verifying the compliance of all statutory and contract labor matters. Also, conduct sensitive investigations and inquiries to enforce sound governance. \"\"\"\n"
          ]
        }
      ],
      "source": [
        "job_description = input(\"Enter the job description:\\n\")"
      ]
    },
    {
      "cell_type": "code",
      "execution_count": null,
      "metadata": {
        "colab": {
          "base_uri": "https://localhost:8080/"
        },
        "id": "Hhhi0V9xdob0",
        "outputId": "5018799c-71f6-4dc0-dfbf-333394666246"
      },
      "outputs": [
        {
          "name": "stdout",
          "output_type": "stream",
          "text": [
            "Enter the skills/requirements for the job:\n",
            "Analytical Skills, SQL, Tableau, and Python (Programming Language),Microsoft Excel, Communication, Data Analysis, Problem Solving, Microsoft Office, Microsoft PowerPoint, and Business Analysis\n"
          ]
        }
      ],
      "source": [
        "skills = input(\"Enter the skills/requirements for the job:\\n\")"
      ]
    },
    {
      "cell_type": "code",
      "execution_count": null,
      "metadata": {
        "colab": {
          "base_uri": "https://localhost:8080/"
        },
        "id": "9e5uDDJkdw0B",
        "outputId": "3858c81d-4da6-4ea7-eb0a-9f7258d2b0f4"
      },
      "outputs": [
        {
          "name": "stdout",
          "output_type": "stream",
          "text": [
            "Enter the folderpath:\n",
            "/content/drive/MyDrive/Resume\n"
          ]
        }
      ],
      "source": [
        "folder_path = input(\"Enter the folderpath:\\n\")"
      ]
    },
    {
      "cell_type": "code",
      "execution_count": null,
      "metadata": {
        "colab": {
          "background_save": true
        },
        "id": "fTB-VZs8NJis",
        "outputId": "b3ed5a35-c69b-4ee7-ff9e-a88cdf4db3a7"
      },
      "outputs": [
        {
          "name": "stdout",
          "output_type": "stream",
          "text": [
            "              File_Name                                              Score\n",
            "0     Final_CV_Data.pdf  {\\n  \"score\": 72.5,\\n  \"explanation\": \"The can...\n",
            "1  Resume_Baglari-1.pdf  To score the candidate's resume against the jo...\n",
            "2            Aditya.pdf  {\\n  \"score\": 62.5,\\n  \"explanation\": \"The can...\n",
            "3          ashutosh.pdf  {\\n  \"score\": 62.5,\\n  \"explanation\": \"The can...\n",
            "4             Ayush.pdf  {\\n  \"score\": 72.5,\\n  \"explanation\": \"The can...\n",
            "5            Naveen.pdf  {\\n  \"score\": 62.5,\\n  \"explanation\": \"The can...\n",
            "6         Rohan sur.pdf  {\\n  \"score\": 75.5,\\n  \"explanation\": \"The can...\n",
            "7            Sakshi.pdf  {\\n  \"score\": 72.5,\\n  \"explanation\": \"The can...\n",
            "8            Shubhi.pdf  {\\n  \"score\": 65.75,\\n  \"explanation\": \"The ca...\n"
          ]
        }
      ],
      "source": [
        "df = analyze_all_resumes(folder_path, job_description, skills)\n",
        "print(df)"
      ]
    },
    {
      "cell_type": "code",
      "execution_count": null,
      "metadata": {
        "colab": {
          "base_uri": "https://localhost:8080/"
        },
        "id": "91gTEIsQ9RiZ",
        "outputId": "f0d07376-74a5-4d0e-a287-4aef68102612"
      },
      "outputs": [
        {
          "name": "stdout",
          "output_type": "stream",
          "text": [
            "0    None\n",
            "1    None\n",
            "Name: Score, dtype: object\n"
          ]
        }
      ],
      "source": [
        "print(df['Score'])"
      ]
    },
    {
      "cell_type": "code",
      "execution_count": null,
      "metadata": {
        "colab": {
          "base_uri": "https://localhost:8080/"
        },
        "id": "s4fRW9-N-Sas",
        "outputId": "553ca052-e087-4ad3-b406-d4ee4d8d90ee"
      },
      "outputs": [
        {
          "name": "stdout",
          "output_type": "stream",
          "text": [
            "  Score Explanation\n",
            "0  None        None\n",
            "1  None        None\n"
          ]
        }
      ],
      "source": [
        "# Initialize lists to store scores and explanations\n",
        "import json\n",
        "data=df\n",
        "scores = []\n",
        "explanations = []\n",
        "\n",
        "# Iterate through the Series and extract scores and explanations\n",
        "for item in data:\n",
        "    try:\n",
        "        json_data = json.loads(item)\n",
        "        scores.append(json_data[\"score\"])\n",
        "        explanations.append(json_data[\"explanation\"])\n",
        "    except json.JSONDecodeError:\n",
        "        scores.append(None)\n",
        "        explanations.append(None)\n",
        "\n",
        "# Create a DataFrame\n",
        "df = pd.DataFrame({\"Score\": scores, \"Explanation\": explanations})\n",
        "\n",
        "# Print the DataFrame\n",
        "print(df)"
      ]
    },
    {
      "cell_type": "markdown",
      "metadata": {
        "id": "2TzE3xWwhCrz"
      },
      "source": [
        "# Single File Test"
      ]
    },
    {
      "cell_type": "code",
      "execution_count": null,
      "metadata": {
        "colab": {
          "base_uri": "https://localhost:8080/"
        },
        "id": "15W_ddiNvmom",
        "outputId": "815e88ef-b87f-4be9-ef0e-3a206f96341e"
      },
      "outputs": [
        {
          "name": "stdout",
          "output_type": "stream",
          "text": [
            "{\n",
            "  \"score\": 0\n",
            "}\n"
          ]
        }
      ],
      "source": [
        "filepath='/content/drive/MyDrive/Scanned docs/X registration.pdf'\n",
        "resume_text = convert_files_to_text(filepath)\n",
        "system = \"\"\"\n",
        "    You are an excellent talent recuiter and your task is to score resumes between 0-100 against a job description and skills required.\n",
        "    You will be provided with candidate resume, job description and skills required for the job.\n",
        "\n",
        "    The system instruction is:\n",
        "    Step-1: First check whether the candidate's resume is an actual resume or not.\n",
        "    Step-2: If the candidate's resume is not an actual resume then score=0, else further\n",
        "    analyse the candidate's resume by looking for these following qualities:\n",
        "      1. Relevant Experience: Relevant work experience in the field or industry related to the job role,\n",
        "      focus on the duration of employment, job titles, and the specific responsibilities and achievements listed under each role.\n",
        "      2. Education and Certifications: The candidate's educational background and any relevant certifications\n",
        "      or specialized training are essential, especially if they align with the job requirements.\n",
        "      3. Key Skills: Specific skills mentioned, these can include technical skills, soft skills, language proficiency,\n",
        "      and any other abilities that are critical for the role.\n",
        "      4. Achievements and Accomplishments: Candidate's abilities and contributions in previous roles.\n",
        "      5. Adaptability and Learning Ability: Candidates who can quickly learn and adapt to new technologies, processes, or changes in the workplace.\n",
        "      6. Extracurricular and Volunteer Activities: Involvement in community work or extracurricular activities that showcase leadership or teamwork skills.\n",
        "      7. Professionalism and Formatting: A well-organized, error-free, and professional resume.\n",
        "    Step-3:\n",
        "    Score the overall quality of resume against the job description and skills required between 0-100.\n",
        "    Step-4:\n",
        "    Return only the final score of resume, answer should be in json format with key as - score.\n",
        "    \"\"\"\n",
        "prompt = f\"\"\"\n",
        "    Information about the candidate's resume, skills/requirements and job description are given inside text delimited by triple backticks.\n",
        "\n",
        "    Candidate's Resume :```{resume_text}```\n",
        "\n",
        "    The skills/requirements expected from the candidates: ```{skills}```\n",
        "\n",
        "    Job Description for the Target Role: ```{job_description}```\n",
        "    \"\"\"\n",
        "messages =  [\n",
        "{'role':'system', 'content':system},\n",
        "{'role':'user', 'content': prompt}]\n",
        "\n",
        "resume_score = get_choice_text_from_prompt(messages)\n",
        "print(resume_score)"
      ]
    },
    {
      "cell_type": "code",
      "execution_count": null,
      "metadata": {
        "id": "rG5b-paZ7aCg"
      },
      "outputs": [],
      "source": [
        "      # 9. Technical skills\n",
        "      # 10. Soft skills\n",
        "      # 11. Language proficiency\n",
        "      # 12. Awards, Achievements and Accomplishments\n",
        "      # 13. Adaptability and Learning Ability: Candidates who can quickly learn and adapt to new technologies, processes, or changes in the workplace.\n",
        "      # 14. Extracurricular and Volunteer Activities: Involvement in community work or extracurricular activities that showcase leadership or teamwork skills.\n",
        "      # 15. Professionalism and Formatting: A well-organized, error-free, and professional resume."
      ]
    }
  ],
  "metadata": {
    "colab": {
      "provenance": []
    },
    "kernelspec": {
      "display_name": "Python 3",
      "name": "python3"
    },
    "language_info": {
      "name": "python"
    }
  },
  "nbformat": 4,
  "nbformat_minor": 0
}